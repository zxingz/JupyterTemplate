{
 "cells": [
  {
   "cell_type": "code",
   "execution_count": 1,
   "metadata": {},
   "outputs": [],
   "source": [
    "import os\n",
    "import sys\n",
    "import json\n",
    "from urllib.request import urlopen\n",
    "import time\n",
    "\n",
    "# ipython\n",
    "import IPython\n",
    "from IPython.lib import kernel\n",
    "from IPython.core.display import Javascript\n",
    "from IPython.display import display\n",
    "\n",
    "#git\n",
    "from git import Repo\n"
   ]
  },
  {
   "cell_type": "markdown",
   "metadata": {},
   "source": [
    "connection_file_path = kernel.get_connection_file()\n",
    "connection_file = os.path.basename(connection_file_path)\n",
    "kernel_id = connection_file.split('-', 1)[1].split('.')[0]"
   ]
  },
  {
   "cell_type": "markdown",
   "metadata": {},
   "source": [
    "with open(connection_file_path, 'r') as file:\n",
    "    connection_data = json.load(file)\n",
    "print(connection_data)\n",
    "sessions = json.load(urlopen('http://'+ \\\n",
    "                            connection_data['ip']+':'+ \\\n",
    "                            '8888/api/sessions'))\n",
    "    "
   ]
  },
  {
   "cell_type": "code",
   "execution_count": 5,
   "metadata": {},
   "outputs": [
    {
     "data": {
      "text/plain": [
       "[<git.remote.PushInfo at 0x1b47e65b108>]"
      ]
     },
     "execution_count": 5,
     "metadata": {},
     "output_type": "execute_result"
    }
   ],
   "source": [
    "repo = Repo(os.path.abspath('.'))\n",
    "notebook_name = 'Template.ipynb'\n",
    "repo.index.add([notebook_name])\n",
    "repo.index.commit(message='notebook')\n",
    "repo.remote().push()"
   ]
  },
  {
   "cell_type": "code",
   "execution_count": null,
   "metadata": {},
   "outputs": [],
   "source": []
  },
  {
   "cell_type": "code",
   "execution_count": null,
   "metadata": {},
   "outputs": [],
   "source": []
  }
 ],
 "metadata": {
  "kernelspec": {
   "display_name": "Python 3",
   "language": "python",
   "name": "python3"
  },
  "language_info": {
   "codemirror_mode": {
    "name": "ipython",
    "version": 3
   },
   "file_extension": ".py",
   "mimetype": "text/x-python",
   "name": "python",
   "nbconvert_exporter": "python",
   "pygments_lexer": "ipython3",
   "version": "3.7.4"
  }
 },
 "nbformat": 4,
 "nbformat_minor": 4
}
